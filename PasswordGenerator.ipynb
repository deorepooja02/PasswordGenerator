{
 "cells": [
  {
   "cell_type": "code",
   "execution_count": null,
   "id": "c092f3a0",
   "metadata": {},
   "outputs": [],
   "source": [
    "#Password Generator Project\n",
    "import random\n",
    "\n",
    "letters = ['a', 'b', 'c', 'd', 'e', 'f', 'g', 'h', 'i', 'j', 'k', 'l', 'm', 'n', 'o', 'p', 'q', 'r', 's', 't', 'u', 'v', 'w', 'x', 'y', 'z', 'A', 'B', 'C', 'D', 'E', 'F', 'G', 'H', 'I', 'J', 'K', 'L', 'M', 'N', 'O', 'P', 'Q', 'R', 'S', 'T', 'U', 'V', 'W', 'X', 'Y', 'Z']\n",
    "numbers = ['0', '1', '2', '3', '4', '5', '6', '7', '8', '9']\n",
    "symbols = ['!', '#', '$', '%', '&', '(', ')', '*', '+']\n",
    "\n",
    "print(\"Welcome to the PyPassword Generator!\")\n",
    "nr_letters= int(input(\"How many letters would you like in your password?\\n\")) \n",
    "nr_symbols = int(input(f\"How many symbols would you like?\\n\"))\n",
    "nr_numbers = int(input(f\"How many numbers would you like?\\n\"))\n",
    "\n",
    "final_pass = []\n",
    "\n",
    "for i in range(1,nr_letters + 1):\n",
    "     random_letters = (random.choice(letters))\n",
    "     final_pass.append(random_letters)\n",
    "\n",
    "\n",
    "for i in range(1,nr_numbers + 1):\n",
    "     random_number = (random.choice(numbers))\n",
    "     final_pass.append(random_number)\n",
    "\n",
    "\n",
    "for i in range(1,nr_symbols + 1 ):\n",
    "    random_symbol = (random.choice(symbols))\n",
    "    final_pass.append(random_symbol)\n",
    "\n",
    "\n",
    "random.shuffle(final_pass)\n",
    "password = ''\n",
    "for i in final_pass:\n",
    "    password += str(i)\n",
    "\n",
    "\n",
    "print(f\"Your password is :  {password} \")"
   ]
  }
 ],
 "metadata": {
  "kernelspec": {
   "display_name": "Python 3 (ipykernel)",
   "language": "python",
   "name": "python3"
  },
  "language_info": {
   "codemirror_mode": {
    "name": "ipython",
    "version": 3
   },
   "file_extension": ".py",
   "mimetype": "text/x-python",
   "name": "python",
   "nbconvert_exporter": "python",
   "pygments_lexer": "ipython3",
   "version": "3.9.7"
  }
 },
 "nbformat": 4,
 "nbformat_minor": 5
}
